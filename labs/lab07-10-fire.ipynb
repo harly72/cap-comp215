{
  "cells": [
    {
      "cell_type": "markdown",
      "source": [
        "# Labs 7 - 10: A CA model of Natural Disturbance\n",
        "In [1990](https://doi.org/10.1016/0375-9601(90)90451-S) Bak, Chen and Tang proposed a cellular automaton that is an abstract model of a forest fire. Each cell is in one of three states: empty, occupied by forest, or on fire.\n",
        "\n",
        "3 ecological processes are modelled: forest regeneration, fire ignition, and fire spread\n",
        "\n",
        "  * empty cells \"regenerate\" forest at a fixed rate, $p$\n",
        "  * forest fires ignite with a regular but small frequency, $f$\n",
        "  * forested cells catch fire when their neighbours are burning, and burn out in one time step.\n",
        "\n",
        "Over the remainder of term, we will develop 2D CA class that implements this model and run computational experiments on the spatial and temporal patterns that emerge."
      ],
      "metadata": {
        "collapsed": false,
        "id": "9j4LTUBWfgft"
      }
    },
    {
      "cell_type": "code",
      "execution_count": 1,
      "metadata": {
        "collapsed": true,
        "id": "30gjTEV7fgfv"
      },
      "outputs": [],
      "source": [
        "%matplotlib inline\n",
        "\n",
        "import time\n",
        "from pprint import pprint\n",
        "\n",
        "import matplotlib\n",
        "import matplotlib.pyplot as plt\n",
        "import numpy as np\n",
        "from matplotlib import animation\n",
        "from scipy.signal import correlate2d\n",
        "\n",
        "# Configure matplotlib's animation library to work in the browser.\n",
        "matplotlib.rc('animation', html='jshtml')"
      ]
    },
    {
      "cell_type": "markdown",
      "source": [
        "### Helpers\n",
        "Some useful, re-usable bits of code developed in previous notebooks..."
      ],
      "metadata": {
        "collapsed": false,
        "id": "NV93hpbTfgfv"
      }
    },
    {
      "cell_type": "code",
      "execution_count": 2,
      "outputs": [],
      "source": [
        "# Qualitative colour map with value 0 set to white\n",
        "tab20_mod = matplotlib.colormaps['tab20']\n",
        "tab20_mod.colors = ((1,1,1,1), *tab20_mod.colors[1:])\n",
        "\n",
        "def plot_2d_array(array, axes=None, title='', cmap=tab20_mod, **options):\n",
        "    \"\"\"\n",
        "    Plot the 2D array as an image on the given axes  1's will be dark blue, 0's will be light blue.\n",
        "\n",
        "    :param axes: the axes to plot on, or None to use the `plt.gca()` (current axes)\n",
        "    :param options: keyword arguments passed directly to `plt.imshow()`\n",
        "           see https://matplotlib.org/stable/api/_as_gen/matplotlib.axes.Axes.imshow.html\n",
        "    \"\"\"\n",
        "    axes = axes or plt.gca()  # If not axes are provided, draw on current axes\n",
        "    axes.set_title(title)\n",
        "    # Turn off axes labels and tick marks\n",
        "    axes.tick_params(axis='both', which='both', bottom=False, top=False, left=False, right=False ,\n",
        "                     labelbottom=False, labeltop=False, labelleft=False, labelright=False,)\n",
        "    # Defaults for displaying a \"matrix\" with hard-pixel boundaries and (0,0) at top-left\n",
        "    options = {**dict(interpolation='nearest', origin='upper'), **options}\n",
        "    axes.imshow(array, cmap=cmap, **options)"
      ],
      "metadata": {
        "id": "xsNiy2Kafgfw"
      }
    },
    {
      "cell_type": "code",
      "execution_count": 3,
      "outputs": [],
      "source": [
        "class Animation2D:\n",
        "    \"\"\"\n",
        "      Animates any 2D model with a step() method and a draw() method, using matplotlib\n",
        "      model.step() should take no parameters - just step the model forward one step.\n",
        "      model.draw() should take 2 parameters, the matpltolib axes to draw on and an integer step number\n",
        "\n",
        "      See https://www.allendowney.com/blog/2019/07/25/matplotlib-animation-in-jupyter/\n",
        "          for a discussion of the pros and cons of various animation techniques in jupyter notebooks\n",
        "    \"\"\"\n",
        "\n",
        "    def __init__(self, model, frames=50, steps_per_frame=1, figsize=(8, 8)):\n",
        "        \"\"\"\n",
        "        :param model: the simulation object to animate, with step() and draw(axes, step) methods\n",
        "        :param frames: number of animation frames to generate\n",
        "        \"\"\"\n",
        "        self.model = model\n",
        "        self.frames = frames\n",
        "        self.steps_per_frame = steps_per_frame\n",
        "        self.fig, self.ax = plt.subplots(figsize=figsize)\n",
        "\n",
        "    def animation_step(self, step):\n",
        "        \"\"\" Step the model forward and draw the plot \"\"\"\n",
        "        if step > 0:\n",
        "            for _ in range(self.steps_per_frame):\n",
        "                self.model.step()\n",
        "        self.model.draw(self.ax, step=step * self.steps_per_frame)\n",
        "\n",
        "    def show(self):\n",
        "        \"\"\" return the matplotlib animation object, ready for display \"\"\"\n",
        "        anim = animation.FuncAnimation(self.fig, self.animation_step, frames=self.frames)\n",
        "        plt.close()  # this ensures the last frame is not shown as a separate plot\n",
        "        return anim\n",
        "\n",
        "    def animate(self, interval=None):\n",
        "        \"\"\" Animate the model simulation directly in the notebook display block \"\"\"\n",
        "        from IPython.display import clear_output\n",
        "        try:\n",
        "            for i in range(self.frames):\n",
        "                clear_output(wait=True)  # clear the IPython display\n",
        "                self.ax.clear()  # clear old image from the axes (fixes a performance issue)\n",
        "                plt.figure(self.fig)  # add the figure back to pyplot ** sigh **\n",
        "                self.animation_step(i)\n",
        "                plt.show()  # show the current animation frame (pyplot then closes and throws away figure ** sigh **)\n",
        "                if interval:\n",
        "                    time.sleep(interval)\n",
        "        except KeyboardInterrupt:\n",
        "            pass"
      ],
      "metadata": {
        "id": "bR0ZK4Mjfgfw"
      }
    },
    {
      "cell_type": "markdown",
      "source": [
        "# Lab 7:  Implementing the Bak, Chen, Tang Model\n",
        "\n",
        "In this lab we will implement a 2D CA model using the same techniques as the GoL, Diffusion, and Percolation models.\n",
        "We are setting up the model we will use in future labs to run some computational experiments to answer questions about this system."
      ],
      "metadata": {
        "collapsed": false,
        "id": "fgQvrzadfgfw"
      }
    },
    {
      "cell_type": "markdown",
      "source": [
        "## Ex. 7.1: Define the Cellular Automata\n",
        "This 2D CA will be similar to those we've seen before.\n",
        "\n",
        "1. Define the kernel (correlation matrix) to compute the spread of fire\n",
        "    * what do we need to know about a cell's neighbourhood to know if it should catch fire?\n",
        "    * how can we encode that using a dot product with a 3 x 3 correlation matrix?\n",
        "\n",
        "2. The step function will be more complex because it must implement the **4 rules**:\n",
        "\n",
        "  *  An empty cell becomes occupied with probability $p$.\n",
        "  *  An occupied cell spontaneously burns, with probability $f$, even if none of its neighbors is on fire.\n",
        "  *  An occupied cell that is on fire becomes an empty cell in the next time step.\n",
        "  *  A occupied catches fire if any of its neighbors is on fire.\n",
        "\n",
        "Typical values for the parameters are $p=0.01$ and $f=0.001$\n",
        "\n",
        "\n",
        "##Chat gpt:\n",
        "\n",
        "##Prompt 1:\n",
        "%matplotlib inline\n",
        "\n",
        "import time\n",
        "from pprint import pprint\n",
        "\n",
        "import matplotlib\n",
        "import matplotlib.pyplot as plt\n",
        "import numpy as np\n",
        "from matplotlib import animation\n",
        "from scipy.signal import correlate2d\n",
        "\n",
        "# Configure matplotlib's animation library to work in the browser.\n",
        "matplotlib.rc('animation', html='jshtml')\n",
        "\n",
        "# Qualitative colour map with value 0 set to white\n",
        "tab20_mod = matplotlib.colormaps['tab20']\n",
        "tab20_mod.colors = ((1,1,1,1), *tab20_mod.colors[1:])\n",
        "\n",
        "def plot_2d_array(array, axes=None, title='', cmap=tab20_mod, **options):\n",
        "    \"\"\"\n",
        "    Plot the 2D array as an image on the given axes  1's will be dark blue, 0's will be light blue.\n",
        "\n",
        "    :param axes: the axes to plot on, or None to use the `plt.gca()` (current axes)\n",
        "    :param options: keyword arguments passed directly to `plt.imshow()`\n",
        "           see https://matplotlib.org/stable/api/_as_gen/matplotlib.axes.Axes.imshow.html\n",
        "    \"\"\"\n",
        "    axes = axes or plt.gca()  # If not axes are provided, draw on current axes\n",
        "    axes.set_title(title)\n",
        "    # Turn off axes labels and tick marks\n",
        "    axes.tick_params(axis='both', which='both', bottom=False, top=False, left=False, right=False ,\n",
        "                     labelbottom=False, labeltop=False, labelleft=False, labelright=False,)\n",
        "    # Defaults for displaying a \"matrix\" with hard-pixel boundaries and (0,0) at top-left\n",
        "    options = {**dict(interpolation='nearest', origin='upper'), **options}\n",
        "    axes.imshow(array, cmap=cmap, **options)\n",
        "\n",
        "class Animation2D:\n",
        "    \"\"\"\n",
        "      Animates any 2D model with a step() method and a draw() method, using matplotlib\n",
        "      model.step() should take no parameters - just step the model forward one step.\n",
        "      model.draw() should take 2 parameters, the matpltolib axes to draw on and an integer step number\n",
        "\n",
        "      See https://www.allendowney.com/blog/2019/07/25/matplotlib-animation-in-jupyter/\n",
        "          for a discussion of the pros and cons of various animation techniques in jupyter notebooks\n",
        "    \"\"\"\n",
        "\n",
        "    def __init__(self, model, frames=50, steps_per_frame=1, figsize=(8, 8)):\n",
        "        \"\"\"\n",
        "        :param model: the simulation object to animate, with step() and draw(axes, step) methods\n",
        "        :param frames: number of animation frames to generate\n",
        "        \"\"\"\n",
        "        self.model = model\n",
        "        self.frames = frames\n",
        "        self.steps_per_frame = steps_per_frame\n",
        "        self.fig, self.ax = plt.subplots(figsize=figsize)\n",
        "\n",
        "    def animation_step(self, step):\n",
        "        \"\"\" Step the model forward and draw the plot \"\"\"\n",
        "        if step > 0:\n",
        "            for _ in range(self.steps_per_frame):\n",
        "                self.model.step()\n",
        "        self.model.draw(self.ax, step=step * self.steps_per_frame)\n",
        "\n",
        "    def show(self):\n",
        "        \"\"\" return the matplotlib animation object, ready for display \"\"\"\n",
        "        anim = animation.FuncAnimation(self.fig, self.animation_step, frames=self.frames)\n",
        "        plt.close()  # this ensures the last frame is not shown as a separate plot\n",
        "        return anim\n",
        "\n",
        "    def animate(self, interval=None):\n",
        "        \"\"\" Animate the model simulation directly in the notebook display block \"\"\"\n",
        "        from IPython.display import clear_output\n",
        "        try:\n",
        "            for i in range(self.frames):\n",
        "                clear_output(wait=True)  # clear the IPython display\n",
        "                self.ax.clear()  # clear old image from the axes (fixes a performance issue)\n",
        "                plt.figure(self.fig)  # add the figure back to pyplot ** sigh **\n",
        "                self.animation_step(i)\n",
        "                plt.show()  # show the current animation frame (pyplot then closes and throws away figure ** sigh **)\n",
        "                if interval:\n",
        "                    time.sleep(interval)\n",
        "        except KeyboardInterrupt:\n",
        "            pass\n",
        "\n",
        "class ForestFire:\n",
        "    \"\"\" 2D Cellular Automaton that simulates a fire-dominated landscape \"\"\"\n",
        "\n",
        "    # Define names for the 3 possible cell states\n",
        "    EMPTY = 0\n",
        "    OCCUPIED = 1\n",
        "    FIRE = 5\n",
        "\n",
        "    # Define a colour map that maps each cell state to an intuitive colour.\n",
        "    cmap = [(1, 0.5, 0), (0, 1, 0), (0, 0, 0), (0, 0, 0), (0, 0, 0), (1, 0, 0)]\n",
        "    cmap[EMPTY] = (1, 0.5, 0)  # brown\n",
        "    cmap[OCCUPIED] = (0, 1, 0)  # green\n",
        "    cmap[FIRE] = (1, 0, 0)  # red\n",
        "    forest_colour_map = matplotlib.colors.ListedColormap(cmap)\n",
        "\n",
        "    # TODO: define a sensible correlation kernel to detect cardinal neighbourhood on fire\n",
        "    kernel = np.array([[0, 0, 0],\n",
        "                       [0, 0, 0],\n",
        "                       [0, 0, 0]])\n",
        "\n",
        "\n",
        "    def __init__(self, n, p=0.01, f=0.001, q=0.5):\n",
        "        \"\"\"Initializes the model.\n",
        "\n",
        "        n: number of rows\n",
        "        p: probability an empty cells becomes \"forested\" (occupied)\n",
        "        f: probability of spontaneous file (e.g., 1/fire ignition interval)\n",
        "        q: initial forest density (probability cell is \"forested\" in initial state)\n",
        "        \"\"\"\n",
        "        self.p = p\n",
        "        self.f = f\n",
        "        # initialize landscape with approx. q proportion of cells OCCUPIED\n",
        "        self.state = np.random.choice([self.OCCUPIED, self.EMPTY], (n, n), p=[q, 1 - q])\n",
        "\n",
        "\n",
        "    def step(self):\n",
        "        \"\"\"Executes one time step, applying the CA rules to regenerate and burn forest.\"\"\"\n",
        "        # TODO: define the rules for the CA.  This is a significant challenge b/c there are 4 rules and they must act independently!\n",
        "        # Tips: develop 1 rule at a time, in the order above, leaving fire spread (correlation) till last.\n",
        "        #       Compute each rule in 2 steps: (1) identify which cells the rule applies to; (2) update those cells.\n",
        "        #       Use the next code block, below, to test as you go.\n",
        "\n",
        "\n",
        "    def num_occupied(self):\n",
        "        \"\"\" return the number of cells occupied by forest \"\"\"\n",
        "        return 0  # TODO: count the number of forested cells.\n",
        "\n",
        "\n",
        "    def pct_occupied(self):\n",
        "        \"\"\" return the proportion of cells occupied by forest \"\"\"\n",
        "        return self.num_occupied() / self.state.size\n",
        "\n",
        "\n",
        "    def draw(self, axes=None, step=''):\n",
        "        \"\"\"Draws the CA cells using the forest colour map so values are coloured intuitively.\"\"\"\n",
        "        axes = axes or plt.gca()\n",
        "        title = f'Time:{step} Occupied: {round(self.pct_occupied() * 100, 2)}%'\n",
        "        plot_2d_array(self.state, axes=axes, title=title,\n",
        "                      cmap=self.forest_colour_map, vmin=0, vmax=len(self.forest_colour_map.colors))\n",
        "\n",
        "\n",
        "\n",
        "Ex. 7.1: Define the Cellular Automata\n",
        "This 2D CA will be similar to those we've seen before.\n",
        "\n",
        "Define the kernel (correlation matrix) to compute the spread of fire\n",
        "\n",
        "##Output:\n",
        "\n",
        "import numpy as np\n",
        "import matplotlib\n",
        "from scipy.signal import correlate2d\n",
        "\n",
        "# Updated ForestFire class with implemented step() method and other adjustments\n",
        "class ForestFireUpdated:\n",
        "    EMPTY = 0\n",
        "    OCCUPIED = 1\n",
        "    FIRE = 2\n",
        "\n",
        "    # Define a colour map that maps each cell state to an intuitive colour.\n",
        "    cmap = [(1, 1, 1),  # white for EMPTY\n",
        "            (0, 1, 0),  # green for OCCUPIED\n",
        "            (1, 0, 0)]  # red for FIRE\n",
        "    forest_colour_map = matplotlib.colors.ListedColormap(cmap)\n",
        "\n",
        "    # Define the kernel for fire spread detection\n",
        "    kernel = np.array([[0, 1, 0],\n",
        "                       [1, 0, 1],\n",
        "                       [0, 1, 0]])\n",
        "\n",
        "    def __init__(self, n, p=0.01, f=0.001, q=0.5):\n",
        "        self.p = p\n",
        "        self.f = f\n",
        "        self.n = n\n",
        "        self.state = np.random.choice([self.OCCUPIED, self.EMPTY], (n, n), p=[q, 1 - q])\n",
        "\n",
        "    def step(self):\n",
        "        \"\"\"Executes one time step in the simulation.\"\"\"\n",
        "        # Temporary state to calculate changes without affecting the original state during iteration\n",
        "        next_state = self.state.copy()\n",
        "\n",
        "        # Rule 1: Empty to Occupied\n",
        "        prob_p = np.random.random(self.state.shape)\n",
        "        next_state[(self.state == self.EMPTY) & (prob_p < self.p)] = self.OCCUPIED\n",
        "\n",
        "        # Rule 2: Spontaneous Combustion\n",
        "        prob_f = np.random.random(self.state.shape)\n",
        "        next_state[(self.state == self.OCCUPIED) & (prob_f < self.f)] = self.FIRE\n",
        "\n",
        "        # Rule 3: Burning cells turn to EMPTY\n",
        "        next_state[self.state == self.FIRE] = self.EMPTY\n",
        "\n",
        "        # Rule 4: Spread of Fire\n",
        "        # Use correlate2d to find cells that are adjacent to fire\n",
        "        fire_spread = correlate2d(self.state == self.FIRE, self.kernel, mode='same', boundary='wrap') > 0\n",
        "        next_state[(self.state == self.OCCUPIED) & fire_spread] = self.FIRE\n",
        "\n",
        "        # Update the state\n",
        "        self.state = next_state\n",
        "\n",
        "    def num_occupied(self):\n",
        "        \"\"\"Returns the number of cells occupied by the forest.\"\"\"\n",
        "        return np.sum(self.state == self.OCCUPIED)\n",
        "\n",
        "    def pct_occupied(self):\n",
        "        \"\"\"Return the proportion of cells occupied by forest.\"\"\"\n",
        "        return self.num_occupied() / self.state.size\n",
        "\n",
        "# Let's create a ForestFire instance to test if the setup is correct\n",
        "forest_fire = ForestFireUpdated(n=100, p=0.01, f=0.001, q=0.5)\n",
        "\n",
        "# We can print the initial percentage of occupied cells to see if our setup seems reasonable\n",
        "print(f\"Initial percentage of occupied cells: {forest_fire.pct_occupied() * 100:.2f}%\")\n"
      ],
      "metadata": {
        "collapsed": false,
        "id": "4lzTkIE2fgfw"
      }
    },
    {
      "cell_type": "code",
      "execution_count": 4,
      "outputs": [],
      "source": [
        "class ForestFire:\n",
        "    \"\"\" 2D Cellular Automaton that simulates a fire-dominated landscape \"\"\"\n",
        "\n",
        "    # Define names for the 3 possible cell states\n",
        "    EMPTY = 0\n",
        "    OCCUPIED = 1\n",
        "\n",
        "    #Code from Chat-GPT\n",
        "    FIRE = 2\n",
        "\n",
        "    # Define a colour map that maps each cell state to an intuitive colour.\n",
        "    cmap = [(1, 0.5, 0), (0, 1, 0), (1, 0, 0)]\n",
        "    cmap[EMPTY] = (1, 0.5, 0)  # brown\n",
        "    cmap[OCCUPIED] = (0, 1, 0)  # green\n",
        "    cmap[FIRE] = (1, 0, 0)  # red\n",
        "    forest_colour_map = matplotlib.colors.ListedColormap(cmap)\n",
        "\n",
        "    # TODO: define a sensible correlation kernel to detect cardinal neighbourhood on fire\n",
        "    # Edited to conform with Chat-GPT's answer\n",
        "    kernel = np.array([[1, 1, 1],\n",
        "                       [1, 0, 1],\n",
        "                       [1, 1, 1]])\n",
        "\n",
        "\n",
        "\n",
        "    #n=0 might be problematic\n",
        "    def __init__(self, n=0, p=0.01, f=0.001, q=0.5):\n",
        "        \"\"\"Initializes the model.\n",
        "\n",
        "        n: number of rows\n",
        "        p: probability an empty cells becomes \"forested\" (occupied)\n",
        "        f: probability of spontaneous file (e.g., 1/fire ignition interval)\n",
        "        q: initial forest density (probability cell is \"forested\" in initial state)\n",
        "        \"\"\"\n",
        "        self.p = p\n",
        "        self.f = f\n",
        "\n",
        "        #Code from Chat-GPT\n",
        "        self.n = n\n",
        "\n",
        "        # initialize landscape with approx. q proportion of cells OCCUPIED\n",
        "        self.state = np.random.choice([self.OCCUPIED, self.EMPTY], (n, n), p=[q, 1 - q])\n",
        "\n",
        "\n",
        "        # This came from Chat-GPT\n",
        "        self.kernel = np.array([[1, 1, 1],\n",
        "                               [1, 0, 1],\n",
        "                               [1, 1, 1]])\n",
        "\n",
        "    def step(self):\n",
        "        \"\"\"Executes one time step, applying the CA rules to regenerate and burn forest.\"\"\"\n",
        "        # TODO: define the rules for the CA.  This is a significant challenge b/c there are 4 rules and they must act independently!\n",
        "        # Tips: develop 1 rule at a time, in the order above, leaving fire spread (correlation) till last.\n",
        "        #       Compute each rule in 2 steps: (1) identify which cells the rule applies to; (2) update those cells.\n",
        "        #       Use the next code block, below, to test as you go.\n",
        "\n",
        "\n",
        "        # Temporary state to calculate changes without affecting the original state during iteration\n",
        "        # Create from Chat-GPT\n",
        "        next_state = self.state.copy()\n",
        "\n",
        "\n",
        "        # Rule 1: Empty to Occupied\n",
        "        # Create from Chat-GPT (& --> and)\n",
        "        prob_p = np.random.random(self.state.shape)#*****\n",
        "        next_state[(self.state == self.EMPTY) & (prob_p < self.p)] = self.OCCUPIED#******\n",
        "\n",
        "        # Rule 2: Spontaneous Combustion\n",
        "        # Create from Chat-GPT\n",
        "        prob_f = np.random.random(self.state.shape)#*****\n",
        "        next_state[(self.state == self.OCCUPIED) & (prob_f < self.f)] = self.FIRE#*****\n",
        "\n",
        "        # Rule 3: Burning cells turn to EMPTY\n",
        "        # Create from Chat-GPT\n",
        "        next_state[self.state == self.FIRE] = self.EMPTY#****\n",
        "\n",
        "        # Rule 4: Spread of Fire\n",
        "        # Use correlate2d to find cells that are adjacent to fire\n",
        "        # Create from Chat-GPT\n",
        "        fire_spread = correlate2d(self.state == self.FIRE, self.kernel, mode='same', boundary='wrap') > 0. #*****\n",
        "        next_state[(self.state == self.OCCUPIED) & fire_spread] = self.FIRE #****\n",
        "\n",
        "        # Update the state\n",
        "        # Create from Chat-GPT\n",
        "        self.state = next_state\n",
        "\n",
        "    def num_occupied(self):\n",
        "        \"\"\" return the number of cells occupied by forest \"\"\"\n",
        "\n",
        "        #Created from Chat-GPT\n",
        "        return np.sum(self.state == self.OCCUPIED)# TODO: count the number of forested cells.\n",
        "\n",
        "\n",
        "    def pct_occupied(self):\n",
        "        \"\"\" return the proportion of cells occupied by forest \"\"\"\n",
        "        return self.num_occupied() / self.state.size\n",
        "\n",
        "\n",
        "    def draw(self, axes=None, step=''):\n",
        "        \"\"\"Draws the CA cells using the forest colour map so values are coloured intuitively.\"\"\"\n",
        "        axes = axes or plt.gca()\n",
        "        title = f'Time:{step} Occupied: {round(self.pct_occupied() * 100, 2)}%'\n",
        "        plot_2d_array(self.state, axes=axes, title=title,\n",
        "                      cmap=self.forest_colour_map, vmin=0, vmax=len(self.forest_colour_map.colors))"
      ],
      "metadata": {
        "id": "kV4lzpGtfgfw"
      }
    },
    {
      "cell_type": "code",
      "execution_count": 19,
      "outputs": [
        {
          "output_type": "stream",
          "name": "stdout",
          "text": [
            "array([[1, 1, 0],\n",
            "       [1, 1, 1],\n",
            "       [1, 1, 2]])\n",
            "Initial percentage of occupied cells: 50.00%\n",
            "[[0 0 1 1 1 1 1 1 1 1]\n",
            " [0 1 0 1 1 0 0 1 0 1]\n",
            " [0 1 0 0 0 1 1 0 0 0]\n",
            " [1 0 1 1 0 0 1 0 1 0]\n",
            " [0 0 1 0 1 1 1 1 1 1]\n",
            " [1 0 0 1 0 1 1 0 1 1]\n",
            " [0 0 1 0 1 1 1 0 1 0]\n",
            " [0 0 0 1 1 0 1 1 0 0]\n",
            " [1 0 1 1 1 0 1 0 0 1]\n",
            " [0 0 0 1 0 0 0 0 0 0]]\n",
            "---<>---\n",
            "[[0 0 1 1 1 1 1 1 1 1]\n",
            " [0 1 0 1 1 0 0 1 0 1]\n",
            " [0 1 0 0 0 1 1 0 0 0]\n",
            " [1 0 1 2 0 0 1 0 1 0]\n",
            " [0 0 1 0 1 1 1 1 1 1]\n",
            " [1 0 0 1 0 1 1 0 1 1]\n",
            " [0 0 1 0 1 1 1 0 1 0]\n",
            " [0 0 0 1 1 0 1 1 0 0]\n",
            " [1 0 1 1 1 0 1 0 0 1]\n",
            " [0 0 0 1 0 0 0 0 0 0]]\n",
            "---<>---\n",
            "[[0 0 1 1 1 1 1 1 1 1]\n",
            " [0 1 0 1 1 0 0 1 0 1]\n",
            " [0 1 0 0 0 1 1 0 0 0]\n",
            " [1 0 2 0 0 0 1 1 1 0]\n",
            " [0 0 2 0 2 1 1 1 1 1]\n",
            " [1 0 0 1 0 1 1 0 1 1]\n",
            " [0 0 1 0 1 1 1 0 1 0]\n",
            " [0 0 0 1 1 0 1 1 0 0]\n",
            " [1 0 1 1 1 0 1 0 0 1]\n",
            " [0 0 0 1 0 0 0 0 0 0]]\n",
            "---<>---\n",
            "[[0 0 1 1 1 1 1 1 1 1]\n",
            " [0 1 0 1 1 0 0 1 0 1]\n",
            " [0 2 0 0 0 1 1 0 0 0]\n",
            " [1 0 0 0 0 0 1 1 1 0]\n",
            " [0 0 0 0 0 2 1 1 1 1]\n",
            " [1 0 0 2 0 2 1 0 1 1]\n",
            " [0 0 1 0 1 1 1 0 2 0]\n",
            " [0 0 0 1 1 0 1 1 0 0]\n",
            " [1 0 1 1 1 0 1 0 0 1]\n",
            " [0 0 0 1 0 0 0 0 0 0]]\n",
            "---<>---\n",
            "[[0 0 1 1 1 1 1 1 1 1]\n",
            " [0 2 0 1 1 0 0 1 1 1]\n",
            " [0 0 0 0 0 1 1 0 0 0]\n",
            " [2 0 0 0 0 0 2 1 1 0]\n",
            " [0 0 0 0 0 0 2 1 1 1]\n",
            " [1 0 0 0 0 0 2 0 2 2]\n",
            " [0 0 2 0 2 2 2 0 0 0]\n",
            " [0 0 0 1 1 0 1 2 0 0]\n",
            " [1 0 1 1 1 0 1 0 0 1]\n",
            " [0 0 0 1 0 0 0 0 0 0]]\n"
          ]
        }
      ],
      "source": [
        "# Code-a-little Test-a-little - use this space to test your class methods as you develop them.  You can remove this block when done.\n",
        "m = ForestFire(3, p=0.5, f=0.2)  #  a very small model with high chance of regen. and spontaneous fires\n",
        "\n",
        "m.step()                          # test the method you are working on and print some useful indicator\n",
        "pprint(m.state)\n",
        "\n",
        "forest_fire = ForestFire(n=10, p=0.01, f=0.011, q=0.5)\n",
        "\n",
        "# We can print the initial percentage of occupied cells to see if our setup seems reasonable\n",
        "#Chat-GPT code\n",
        "print(f\"Initial percentage of occupied cells: {forest_fire.pct_occupied() * 100:.2f}%\")\n",
        "\n",
        "print(forest_fire.state)\n",
        "forest_fire.step()\n",
        "print(\"---<>---\")\n",
        "print(forest_fire.state)\n",
        "forest_fire.step()\n",
        "print(\"---<>---\")\n",
        "print(forest_fire.state)\n",
        "forest_fire.step()\n",
        "print(\"---<>---\")\n",
        "print(forest_fire.state)\n",
        "forest_fire.step()\n",
        "print(\"---<>---\")\n",
        "print(forest_fire.state)"
      ],
      "metadata": {
        "id": "xeVrHdbyfgfx",
        "outputId": "f615e79f-d213-4968-aa31-1d8c572b8b77",
        "colab": {
          "base_uri": "https://localhost:8080/"
        }
      }
    },
    {
      "cell_type": "markdown",
      "source": [
        "## Ex. 7.2: Animation\n",
        "Create a simple animation (using Animate2D class provided) so we can visualize and verify the system dynamics\n",
        "\n",
        "\n",
        "To illustrate how you can use the `Animation2D` class for a simple example, let's create a minimal model that simulates a 2D grid where cells can be either on (1) or off (0). For simplicity, let's define a model where in each step, a cell will turn on if it was off, and vice versa, essentially toggling the state of each cell. This example won't show the forest fire simulation directly due to the previously mentioned execution limitations but will demonstrate how to use `Animation2D` in principle.\n",
        "\n",
        "We'll define a simple model class called `ToggleGrid` that includes `step` and `draw` methods required by `Animation2D`, then animate this model to see the toggling effect.\n",
        "\n",
        "### Step 1: Define the `ToggleGrid` Model\n",
        "\n",
        "```python\n",
        "class ToggleGrid:\n",
        "    def __init__(self, n=10):\n",
        "        \"\"\"Initialize the model with an n x n grid of zeros.\"\"\"\n",
        "        self.grid = np.zeros((n, n), dtype=int)\n",
        "        self.n = n\n",
        "\n",
        "    def step(self):\n",
        "        \"\"\"Toggle each cell in the grid.\"\"\"\n",
        "        self.grid = 1 - self.grid  # Toggle between 0 and 1\n",
        "\n",
        "    def draw(self, axes=None, step=''):\n",
        "        \"\"\"Draw the grid.\"\"\"\n",
        "        title = f'Step: {step}'\n",
        "        plot_2d_array(self.grid, axes=axes, title=title, cmap='Greys')\n",
        "```\n",
        "\n",
        "### Step 2: Use `Animation2D` to Animate the Model\n",
        "\n",
        "Next, let's create an instance of this `ToggleGrid` model and animate it using `Animation2D`.\n",
        "\n",
        "```python\n",
        "# Create an instance of the ToggleGrid model\n",
        "toggle_grid_model = ToggleGrid(n=10)\n",
        "\n",
        "# Create an instance of Animation2D to animate the model\n",
        "toggle_grid_animation = Animation2D(toggle_grid_model, frames=20, steps_per_frame=1, figsize=(5, 5))\n",
        "\n",
        "# Display the animation\n",
        "toggle_grid_animation.show()\n",
        "```\n",
        "\n",
        "This example provides a basic demonstration of how to animate a 2D model using `Animation2D`. The `ToggleGrid` model is intentionally simplistic to focus on the mechanics of setting up and running an animation. In your actual implementation with the `ForestFire` model or any other complex model, you would replace the `ToggleGrid` model with your model instance and ensure that the `step` and `draw` methods are defined to reflect your model's dynamics.\n",
        "\n",
        "To see the animation, you would need to run the full Python code, including the definitions of `Animation2D` and `plot_2d_array`, in a Jupyter notebook or similar environment that supports interactive animations.\n",
        "\n",
        "\n",
        "To use the `Animation2D` class for animating a 2D model like the `ForestFire` model described earlier, follow these steps. I'll provide a simplified example that includes the necessary elements. This example assumes that both the `ForestFire` model and the `Animation2D` class are defined correctly, as they are essential components for the animation.\n",
        "\n",
        "### Step 1: Define or Import the Model\n",
        "\n",
        "You should have a model class (`ForestFire` in this case) with at least two methods:\n",
        "\n",
        "- `step()`: Advances the model by one time step. It should update the model's state based on its rules.\n",
        "- `draw(axes, step)`: Draws the current state of the model onto the provided `matplotlib` axes. The `step` parameter can be used to display the current time step or any other relevant information as the title.\n",
        "\n",
        "### Step 2: Create an Instance of the Model\n",
        "\n",
        "Instantiate your model with the desired initial parameters.\n",
        "\n",
        "```python\n",
        "forest_fire = ForestFire(n=50, p=0.01, f=0.001, q=0.5)\n",
        "```\n",
        "\n",
        "### Step 3: Create an `Animation2D` Instance\n",
        "\n",
        "Pass the model instance to `Animation2D` along with any other parameters like the number of frames or steps per frame. The `figsize` parameter controls the size of the animation.\n",
        "\n",
        "```python\n",
        "animation = Animation2D(forest_fire, frames=100, steps_per_frame=1, figsize=(5, 5))\n",
        "```\n",
        "\n",
        "### Step 4: Display the Animation\n",
        "\n",
        "Finally, call the `show()` method of your `Animation2D` instance to start the animation. In a Jupyter notebook, this will display the animation inline.\n",
        "\n",
        "```python\n",
        "animation.show()\n",
        "```\n",
        "\n",
        "### Full Example Code\n",
        "\n",
        "```python\n",
        "# Assuming ForestFire and Animation2D classes are defined above\n",
        "\n",
        "# Initialize the model\n",
        "forest_fire = ForestFire(n=50, p=0.01, f=0.001, q=0.5)\n",
        "\n",
        "# Create an animation instance\n",
        "animation = Animation2D(forest_fire, frames=100, steps_per_frame=1, figsize=(5, 5))\n",
        "\n",
        "# Display the animation\n",
        "animation.show()\n",
        "```\n",
        "\n",
        "This example provides a straightforward way to visualize the dynamics of the `ForestFire` model or any other 2D cellular automaton model. Remember, this process requires a working Python environment with `matplotlib` installed and properly configured to run animations."
      ],
      "metadata": {
        "collapsed": false,
        "id": "sdlunSyyfgfx"
      }
    },
    {
      "cell_type": "code",
      "execution_count": 6,
      "outputs": [
        {
          "output_type": "display_data",
          "data": {
            "text/plain": [
              "<Figure size 500x500 with 1 Axes>"
            ],
            "image/png": "[encoded data removed]"
          },
          "metadata": {}
        }
      ],
      "source": [
        "# Ex. 7.2 here\n",
        "#  Suggestions: use a small grid (e.g., 20x20)  and\n",
        "#               a short animation (100 frames) with interval=0.3, to slow it down so you can inspect its behaviour\n",
        "\n",
        "class ToggleGrid:\n",
        "    def __init__(self, n=10):\n",
        "        \"\"\"Initialize the model with an n x n grid of zeros.\"\"\"\n",
        "        self.grid = np.zeros((n, n), dtype=int)\n",
        "        self.n = n\n",
        "\n",
        "    def step(self):\n",
        "        \"\"\"Toggle each cell in the grid.\"\"\"\n",
        "        self.grid = 1 - self.grid  # Toggle between 0 and 1\n",
        "\n",
        "    def draw(self, axes=None, step=''):\n",
        "        \"\"\"Draw the grid.\"\"\"\n",
        "        title = f'Step: {step}'\n",
        "        plot_2d_array(self.grid, axes=axes, title=title, cmap='Greys')\n",
        "\n",
        "# Assuming ForestFire and Animation2D classes are defined above\n",
        "\n",
        "# Initialize the model\n",
        "#code form Chat-GPT\n",
        "forest_fire = ForestFire(n=50, p=0.01, f=0.001, q=0.5)\n",
        "\n",
        "# Create an animation instance\n",
        "#code form Chat-GPT\n",
        "animation = Animation2D(forest_fire, frames=100, steps_per_frame=1, figsize=(5, 5))\n",
        "\n",
        "# Display the animation\n",
        "#code form Chat-GPT\n",
        "animation.animate()\n"
      ],
      "metadata": {
        "id": "0xpcHFvifgfx",
        "outputId": "3bfcda8c-a92a-4a35-bc27-051b2392ed3a",
        "colab": {
          "base_uri": "https://localhost:8080/",
          "height": 444
        }
      }
    },
    {
      "cell_type": "markdown",
      "source": [
        "### Question 7.3:\n",
        "In what ways is this model similar to Diffusion and/or Percolation?\n",
        "What kinds of behaviours might we predict from this more complex model based on what we learned from the simpler Diffusion and/or Precolation models?\n",
        "Provide concise (brief, point-form) answers below:\n",
        "\n",
        "#### Answers:\n",
        "This model is similiar to diffusion and percolation in the sense of spread and fluctuation. <br>\n",
        "Regarding the quality of spread, models spread information in similar ways. This model grows forested areas and fire propigates outwards from some critical point wich is very similar to how percolation models would also transmit information. Generally diffustion model do not exhibit this feat however similar results can still be obtained through selective filters. <br>\n",
        "Regarding the quality of fluctuation, models have the ability to flucuate states. When it come to this model it has generally two states (a thrid being empty) a growth state and a purge state. In the growth state nothing is on fire and forest squres prosper. In the purge state, a fire square is gerneated and the surrounding forest in reverted to an empty square propigating from its origin. Diffusion models are similar as data can go through a transfermation (may be gradual) via a filter. The new data would differ from the old and this can be said to be period."
      ],
      "metadata": {
        "collapsed": false,
        "id": "rUdNfsU2fgfx"
      }
    },
    {
      "cell_type": "markdown",
      "source": [
        "-------------------"
      ],
      "metadata": {
        "collapsed": false,
        "id": "WrlziGZGfgfx"
      }
    },
    {
      "cell_type": "markdown",
      "source": [
        "# Lab 8:  Temporal Dynamics: Stability and Equilibrium\n",
        "\n",
        "The [dynamics](https://en.wikipedia.org/wiki/System_dynamics) of a system describe how it changes over time.  In mathematics, we typically express dyanamics with differential equations (i.e., expressing change over time).  In computation, we typically use a simulation model, like the one developed in Lab 7.\n",
        "\n",
        "Please watch: [Basic System Dyanmics (15 min)](https://youtu.be/qlRM1JlxfkU) for a quick introduction to these concepts.\n",
        "\n",
        "---------------------\n",
        "In this lab we will explore the patterns our `ForestFire` model traces out over time.  We'll try to determine if the model is stable or chaotic, whether there are any circumstances where it reaches [equilibirum](https://en.wikipedia.org/wiki/Mechanical_equilibrium)"
      ],
      "metadata": {
        "collapsed": false,
        "id": "fICdqC1Ifgfx"
      }
    },
    {
      "cell_type": "markdown",
      "source": [
        "## Ex. 8.1: Exploratory Analysis\n",
        "Explore the behaviour of the model we defined above.\n",
        " 1. Alter the model's initial conditions - how does the behaviour change depending on the initial proportion of forested vs. empty cells?\n",
        " 2. Alter the regeneration and fire frequency parameters, $p$ and $f$, to see how this changes the model behaviour - how does the behaviour change as you increase or decrease each of these model parameters?"
      ],
      "metadata": {
        "collapsed": false,
        "id": "p3eIUzcifgfx"
      }
    },
    {
      "cell_type": "code",
      "execution_count": 7,
      "outputs": [],
      "source": [
        "# Ex. 8.1 here\n",
        "\n"
      ],
      "metadata": {
        "id": "VYUDCqE9fgfy"
      }
    },
    {
      "cell_type": "markdown",
      "source": [
        "## Ex. 8.2: Steady State\n",
        "Many complex systems never achieve a static [equilibirum](https://en.wikipedia.org/wiki/Mechanical_equilibrium), instead their state fluctuates around a value, called an [\"attractor\"](https://en.wikipedia.org/wiki/Attractor).  A system that is not trending is said to be in [\"steady state\"](https://en.wikipedia.org/wiki/Steady_state).\n",
        "Starting from a random initial condition, run the model until it reaches a \"steady state\" where the number of occupied cells is no longer trending (consistently increasing or decreasing).\n",
        "\n",
        "Design an experimental setup that allows you to detect when the system is in steady state with respect to the number of forested cells.\n",
        "This need not be fancy and need not automate the detection of steady state, so long as it provides some output that allows you to detect how long it takes for the system to settle into an equilibrium or cyclical pattern."
      ],
      "metadata": {
        "collapsed": false,
        "id": "x8Tr-4D1fgfy"
      }
    },
    {
      "cell_type": "code",
      "execution_count": 8,
      "outputs": [],
      "source": [
        "# Ex. 8.2 here"
      ],
      "metadata": {
        "id": "Yks0xjmAfgfy"
      }
    },
    {
      "cell_type": "markdown",
      "source": [
        "### Question 8.3:\n",
        "Starting with a uniform random landscape, $q$ = 0.5, find the steady state proportion of forested cells of this system for 3 different combinations of $p$ and $f$, and the approx. number of time steps required to reach steady state.\n",
        "Fill in the table below with your experimental results:\n",
        "\n",
        "| p  | f   | steady-state | time steps | Cyclical? |\n",
        "|----|-----|--------------|------------|-----------|\n",
        "| 0.01 | 0.001 | ?        | ?          | ?         |\n",
        "| ?  | ?   | ?            | ?          | ?         |\n",
        "| ?  | ?   | ?            | ?          | ?         |\n"
      ],
      "metadata": {
        "collapsed": false,
        "id": "5K1UFMLnfgfy"
      }
    },
    {
      "cell_type": "markdown",
      "source": [
        "## Ex. 8.4: Stability\n",
        "A system is [\"stable\"](https://en.wikipedia.org/wiki/Ecological_stability) if it returns to its former steady state after a [disturbance](https://en.wikipedia.org/wiki/Disturbance_(ecology))\n",
        "\n",
        "A disturbance in our case might be an extreme fire year or an insect outbreak that changes the forest's susceptibility to fire, or several years of reduced regeneration due to a soil fungus killing seedlings.\n",
        "How could you emulate a disturbance like this in your model?  If you want to modify the model in some way, that's OK, but you may also find ways to emulate a disturbance as an \"external forcing function\".\n",
        "\n",
        "Run your model to steady-state, then emulate a major disturbance (over one or more time steps) to \"perturb\" the system away from its steady state.  Remove the external force and measure how long it takes for the system to return to steady state."
      ],
      "metadata": {
        "collapsed": false,
        "id": "MnqCLjeXfgfy"
      }
    },
    {
      "cell_type": "code",
      "execution_count": 9,
      "outputs": [],
      "source": [
        "# Ex. 8.4 here"
      ],
      "metadata": {
        "id": "5lGM0GCSfgfy"
      }
    },
    {
      "cell_type": "markdown",
      "source": [
        "### Question 8.4:\n",
        "Does the model tend to return to the same steady-state, or does the attractor move to a different value?\n",
        "How long does it take for the model to return to steady-state dynamics?\n",
        "Does it appear to matter to these results how large the disturbance is?\n",
        "What does that tell you about the number of \"attractors\" in this system?\n",
        "\n",
        "#### Answers:\n"
      ],
      "metadata": {
        "collapsed": false,
        "id": "aw-N-T5efgfy"
      }
    },
    {
      "cell_type": "markdown",
      "source": [
        "-----------------"
      ],
      "metadata": {
        "collapsed": false,
        "id": "gXDkUMxffgfy"
      }
    },
    {
      "cell_type": "markdown",
      "source": [
        "# Lab 9: Patch Size Distribution\n",
        "\n",
        "The spatial patterns that emerge from this model tends to be landscapes with patches of forested and un-forested land of varying size.  A question naturally arises about this pattern:\n",
        "  * what is the size of patches created by fire?\n",
        "    This will alos tell us something about forest [fragmentation](https://en.wikipedia.org/wiki/Habitat_fragmentation), which impacts wildlife habitat, for example.\n",
        "\n",
        "Notice that rather than a single number, we will get a [distribution](https://en.wikipedia.org/wiki/Probability_distribution) of values for patch sizes.  The shape of this distribution emerges from the system dynamics, and serves as a way to compare our model results with empirical observations of patch-size distributions in real ecosystems.\n",
        "\n",
        "In this lab we will explore the spatial patterns our `ForestFire` model makes.  We'll ask if these patterns have a [heavy-tail distribution](https://en.wikipedia.org/wiki/Heavy-tailed_distribution) and thus exhibit [self-organizing criticality](https://en.wikipedia.org/wiki/Self-organized_criticality)"
      ],
      "metadata": {
        "collapsed": false,
        "id": "Kt_7XnyJfgfy"
      }
    },
    {
      "cell_type": "markdown",
      "source": [
        "### Identifying Contiguous Patches\n",
        "\n",
        "This is a surprisingly challenging problem to solve in the general case given how good our visual system is at identifying them!\n",
        "The idea I had here was to start by giving each forested cell a unique value, then \"grow\" patches by allowing the smallest of these unique values to propagate to neighbouring cells.  Repeat until the propagation is finished.  In the end, all the cells in each contiguous patch have the same, unique identifier.\n",
        "Notice that this is a modified diffusion / percolation algorithm - they are actually useful!"
      ],
      "metadata": {
        "collapsed": false,
        "id": "pWP1pc4Vfgfy"
      }
    },
    {
      "cell_type": "code",
      "execution_count": 10,
      "outputs": [],
      "source": [
        "neighbourhood = np.array([\n",
        "    [0, 1, 0],\n",
        "    [1, 1, 1],\n",
        "    [0, 1, 0],\n",
        "])\n",
        "centre = tuple(d // 2 for d in neighbourhood.shape)\n",
        "\n",
        "\n",
        "def max_neighbour(a):\n",
        "    \"\"\" Return the largest non-zero neighbourhood value or 0 if centre cell is a zero \"\"\"\n",
        "    assert a.shape == neighbourhood.shape\n",
        "    p = a * neighbourhood\n",
        "    return 0 if a[centre]==0 else np.max(p[p > 0])\n",
        "\n",
        "assert max_neighbour(np.array([[1, 2, 3], [0, 1, 0], [1, 2, 3] ])) == 2\n",
        "assert max_neighbour(np.array([[1, 2, 3], [0, 0, 0], [1, 2, 3] ])) == 0\n",
        "assert max_neighbour(np.array([[1, 0, 1], [0, 2, 0], [1, 0, 1] ])) == 2\n",
        "\n",
        "def consolidate(array):\n",
        "    \"\"\" return copy of array with adjacent cells consolidated into a patch with the lowest value among occupied neighbours \"\"\"\n",
        "    rows, cols = array.shape\n",
        "    array = np.pad(array, 1, mode='wrap')  # wraps edges\n",
        "    k = neighbourhood.shape[0]\n",
        "    return np.array([\n",
        "        [max_neighbour(array[row:row + k, col:col + k]) for col in range(cols)]\n",
        "        for row in range(rows)\n",
        "    ], dtype=np.uint)\n",
        "\n",
        "def patchify(array, patch_category):\n",
        "    \"\"\" Return an array with each contiguous patch identified by a unique integer\n",
        "    array:  array of int categorical values.\n",
        "    category: the category value to identify patches for.\n",
        "\n",
        "    return: array of same shape with a unique value identifying cells in each patch and zeros elsewhere.\n",
        "    \"\"\"\n",
        "    patches = np.zeros(array.shape, dtype=np.uint)\n",
        "    # assign each cell that falls in a patch a unique number, 1 .. N\n",
        "    patches[array == patch_category] = range(100, len(array[array == patch_category]) + 100)\n",
        "\n",
        "    patches_growing = True\n",
        "    while patches_growing:\n",
        "        prev_patches = patches\n",
        "        patches = consolidate(prev_patches)\n",
        "        patches_growing = np.any(patches != prev_patches)  # patches are growing until consolidate algorithm stabilizes.\n",
        "\n",
        "    return patches"
      ],
      "metadata": {
        "id": "HTe4eVgKfgfy"
      }
    },
    {
      "cell_type": "code",
      "execution_count": 11,
      "outputs": [
        {
          "output_type": "stream",
          "name": "stdout",
          "text": [
            "Patch id's: [100 111 123 124]\n"
          ]
        },
        {
          "output_type": "display_data",
          "data": {
            "text/plain": [
              "<Figure size 640x480 with 1 Axes>"
            ],
            "image/png": "[encoded data removed]"
          },
          "metadata": {}
        }
      ],
      "source": [
        "# test patchify\n",
        "a = np.array([\n",
        "    [0, 0, 0, 1, 5, 0, 1, 0],\n",
        "    [0, 1, 1, 0, 5, 0, 1, 0],\n",
        "    [0, 0, 1, 1, 5, 1, 1, 1],\n",
        "    [0, 1, 1, 0, 5, 0, 0, 0],\n",
        "    [0, 0, 0, 0, 5, 0, 1, 1],\n",
        "    [1, 1, 1, 0, 5, 0, 0, 1],\n",
        "    [1, 1, 1, 0, 5, 0, 1, 0],\n",
        "    [0, 1, 1, 0, 5, 0, 1, 0],\n",
        "], dtype=np.uint)\n",
        "pch = patchify(a, 1)\n",
        "plot_2d_array(pch)\n",
        "print(\"Patch id's:\", np.unique(pch[pch>0]))"
      ],
      "metadata": {
        "id": "xOKRXRJQfgfy",
        "outputId": "06dccb25-33a7-4426-878e-e148e69cc419",
        "colab": {
          "base_uri": "https://localhost:8080/",
          "height": 424
        }
      }
    },
    {
      "cell_type": "markdown",
      "source": [
        "## Ex. 9.1 Patch Size Distribution\n",
        "\n",
        "Run your model to steady-state, and `patchify` the model state.\n",
        "You might want to plot these beside each other to verify that `patchify` is working as expected.\n",
        "\n",
        "With a unique \"patch id\" assigned to each patch, we can tally up the size of each patch simply by counting the number of cells for each unique id.  Important: be sure to exclude the value zero - these are empty cells do not represent a patch!\n",
        "\n",
        "*Tip*: use [numpy.unique](https://numpy.org/doc/stable/reference/generated/numpy.unique.html), with `return_counts=True`, which does exactly the job we want.  It will return 2 arrays with the unique patch id and the matching patch size for each patch."
      ],
      "metadata": {
        "collapsed": false,
        "id": "jQZB7r1vfgfy"
      }
    },
    {
      "cell_type": "code",
      "execution_count": 12,
      "outputs": [],
      "source": [
        "# Ex. 9.1 here"
      ],
      "metadata": {
        "id": "zIc7_3y_fgfy"
      }
    },
    {
      "cell_type": "markdown",
      "source": [
        "## Ex. 9.2 Patch Size frequency distribution\n",
        "\n",
        "Once you have an array of patch-size counts, construct the distribution of patch sizes.\n",
        "  * you may use `empericaldist.PDF` as shown in the textbook and `complex-colab` notebook; OR\n",
        "  * you may use the `FrequencyDist` class we developed in class (copy it from the course notebook); OR\n",
        "  * you can do the frequency counting yourself - again, `np.unique` could be used, for example to tally up the number of patches in each size class."
      ],
      "metadata": {
        "collapsed": false,
        "id": "SSPAhiyWfgfy"
      }
    },
    {
      "cell_type": "code",
      "execution_count": 13,
      "outputs": [],
      "source": [
        "# Ex. 9.2 here"
      ],
      "metadata": {
        "id": "-ktJO1gJfgfy"
      }
    },
    {
      "cell_type": "markdown",
      "source": [
        "## Ex. 9.3 Heavy-tailed distribution?\n",
        "\n",
        "Create a plot of the patch size distribution as a bar-chart or a line-graph, both on a linear and log-log scale, similar to the example in Ch. 10.5\n",
        "Optional: plot the -1 slope line in log-log space on same chart.  Code for this can be found in the Sandpile notebook."
      ],
      "metadata": {
        "collapsed": false,
        "id": "5DUD0duVfgfy"
      }
    },
    {
      "cell_type": "code",
      "execution_count": 14,
      "outputs": [],
      "source": [
        "# Ex. 9.3 here"
      ],
      "metadata": {
        "id": "ilyEExo5fgfy"
      }
    },
    {
      "cell_type": "markdown",
      "source": [
        "### Question 9.4\n",
        "\n",
        "Does the patch size distribution appear to follow the power law?\n",
        "Does it show any signs of being a \"heavy-tailed\" distribution?\n",
        "If it does, what might the implications be for our understanding of the dynamics of real forest ecosystems?\n",
        "\n",
        "#### Answers\n"
      ],
      "metadata": {
        "collapsed": false,
        "id": "PQRV774Tfgfy"
      }
    },
    {
      "cell_type": "markdown",
      "source": [
        "---------------------"
      ],
      "metadata": {
        "collapsed": false,
        "id": "K82BwgFefgfy"
      }
    },
    {
      "cell_type": "markdown",
      "source": [
        "# Lab 10:  Fractal Dimension\n",
        "\n",
        "I highly recommend you start with this [**_2Blue1Brown Video_**](https://youtu.be/gB9n2gHsHN4), if you've not yet seen it.\n",
        "\n",
        "-----------------\n",
        "In this lab we will calculate the [fractal dimension](https://en.wikipedia.org/wiki/Fractal_dimension) of the forested areas thatour `ForestFire` model generates."
      ],
      "metadata": {
        "collapsed": false,
        "id": "vOFqz07Ffgfz"
      }
    },
    {
      "cell_type": "markdown",
      "source": [
        "## Ex. 10.1 Box Counting\n",
        "\n",
        "We'll use the [box counting](https://en.wikipedia.org/wiki/Box_counting) algorithm, which, in essence, estimates how the measured amount of forested area scales at different sized counting grids (2D rulers).  You are welcome to pilfer the `box_count` code developed for measuring fractal dimension in the **Precolation** model.\n",
        "\n",
        "Run your model forward to steady-state, and use the box counting algorithm to estimate how the pattern of forested patches scales.  The result here show how the count of \"forested\" cells scales with the size of the \"box\" (grid cell) used to do the counting.\n",
        "Just looking at the results, do you think this is closer to a linear or a squared scaling factor?"
      ],
      "metadata": {
        "collapsed": false,
        "id": "uVtsHzulfgfz"
      }
    },
    {
      "cell_type": "code",
      "execution_count": 15,
      "outputs": [],
      "source": [
        "# Ex. 10.1 here"
      ],
      "metadata": {
        "id": "RFnETZ7Yfgfz"
      }
    },
    {
      "cell_type": "markdown",
      "source": [
        "## Ex. 10.2  Estimate Fractal Dimension\n",
        "\n",
        "If we plot the count of forested cells versus the size of the \"box\" on a log-log scale, the slope estimates the fractal dimension.\n",
        "\n",
        "Estimate the slope of your box-count data using a log-log linear regression (again, feel free to pilfer the `log_slope` function).\n",
        "Plot the graph that shows the box-count data in relation to a simple linear and square scaling relation (again, pilfer code as needed)."
      ],
      "metadata": {
        "collapsed": false,
        "id": "MCUX0Tucfgfz"
      }
    },
    {
      "cell_type": "code",
      "execution_count": 16,
      "outputs": [],
      "source": [
        "# Ex. 10.2 here"
      ],
      "metadata": {
        "id": "eKjZ0f2Ffgf2"
      }
    },
    {
      "cell_type": "markdown",
      "source": [
        "## Ex. 10.3  Scaling Experiment\n",
        "\n",
        "In our study of Percolation patterns, we plotted the scaling factor and fractal dimension to visualize how the pattern scales compared to simple linear and square scaling.  We set up an experiment to explore how fractal dimension changed for different model paraemter values, and to idenify a critical values where [phase transitions](https://en.wikipedia.org/wiki/Phase_transition) occur.\n",
        "\n",
        "Repeat these experiments for the `ForestFire` model.  Again, you may adapt the code developed for Percolation."
      ],
      "metadata": {
        "collapsed": false,
        "id": "9CgbiqRvfgf2"
      }
    },
    {
      "cell_type": "code",
      "execution_count": 17,
      "outputs": [],
      "source": [
        "# Ex. 10.3 here"
      ],
      "metadata": {
        "id": "f92hquEXfgf2"
      }
    },
    {
      "cell_type": "markdown",
      "source": [
        "### Question 10.4:\n",
        "How does the fractal dimension change for different values of $p$ and $f$?\n",
        "Does there appear to be a critical value where the fractal dimension goes through a phase change, like we saw for Percolation?\n",
        "What conclusions might your draw about the complexity of forest edges in real forest ecosystems?  How does this compare the the man-made edges that typically result from industrial logging?\n",
        "\n",
        "#### Answers:"
      ],
      "metadata": {
        "collapsed": false,
        "id": "L8RQ7MLsfgf2"
      }
    }
  ],
  "metadata": {
    "kernelspec": {
      "display_name": "Python 3",
      "language": "python",
      "name": "python3"
    },
    "language_info": {
      "codemirror_mode": {
        "name": "ipython",
        "version": 2
      },
      "file_extension": ".py",
      "mimetype": "text/x-python",
      "name": "python",
      "nbconvert_exporter": "python",
      "pygments_lexer": "ipython2",
      "version": "2.7.6"
    },
    "colab": {
      "provenance": []
    }
  },
  "nbformat": 4,
  "nbformat_minor": 0
}