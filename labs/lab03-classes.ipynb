{
  "nbformat": 4,
  "nbformat_minor": 0,
  "metadata": {
    "colab": {
      "name": "Lab2-NEO.ipynb",
      "provenance": []
    },
    "kernelspec": {
      "name": "python3",
      "language": "python",
      "display_name": "Python 3 (ipykernel)"
    },
    "language_info": {
      "name": "python"
    }
  },
  "cells": [
    {
      "cell_type": "markdown",
      "source": [
        "COMP 215 - LAB 3 Classes (NEO)\n",
        "----------------\n",
        "#### Name: Owen McLachalan\n",
        "#### Date: Jan 29\n",
        "\n",
        "This lab exercise introduces `class` as a means of organizing related data and functions.\n",
        "\n",
        "**Building on new concepts from lab 2**:\n",
        "  * a `record` is a related collection of data, with fields for each data value\n",
        "  * an `API` is an \"Application Programmers Interface\" defining how a programmer interacts with a system.\n",
        "  * *f-string* simplifies string formatting operations\n",
        "\n",
        "**New Python Concepts**:\n",
        "  * the `class` keyword allows you define a new data `type`, with a set of operations on that data.\n",
        "  * a `dataclass` simplifies class definition for classes that primarily encapsulate a data structure.\n",
        "\n",
        "As usual, the first code cell simply imports all the modules we'll be using..."
      ],
      "metadata": {
        "id": "nbRPZPKZU5Pk"
      }
    },
    {
      "cell_type": "code",
      "execution_count": 74,
      "outputs": [],
      "source": [
        "import datetime, json, requests\n",
        "from pprint import pprint    # Pretty Print - built-in python function to nicely format data structures"
      ],
      "metadata": {
        "pycharm": {
          "name": "#%%\n"
        },
        "ExecuteTime": {
          "end_time": "2024-01-04T04:10:54.380220Z",
          "start_time": "2024-01-04T04:10:54.335677Z"
        },
        "id": "WEkyR8o-5WVw"
      }
    },
    {
      "cell_type": "markdown",
      "source": [
        "We'll continue working with [Near Earth Object](https://cneos.jpl.nasa.gov/) data\n",
        "> using NASA's API:  [https://api.nasa.gov/](https://api.nasa.gov/#NeoWS)\n",
        "\n",
        "Here's a brief review from Lab 2 on how to use it..."
      ],
      "metadata": {
        "collapsed": false,
        "pycharm": {
          "name": "#%% md\n"
        },
        "id": "mmLhBzx25WVx"
      }
    },
    {
      "cell_type": "markdown",
      "source": [
        "### Review: making a query\n",
        "\n",
        "Here's a query that gets the record for a single NEO that recently passed by."
      ],
      "metadata": {
        "collapsed": false,
        "pycharm": {
          "name": "#%% md\n"
        },
        "id": "6mfhfnDo5WVx"
      }
    },
    {
      "cell_type": "code",
      "source": [
        "API_KEY = 'DEMO_KEY'  # substitute your API key here\n",
        "\n",
        "def get_neos(start_date):\n",
        "    \"\"\" Return a list of NEO for the week starting at start_date \"\"\"\n",
        "    url = f'https://api.nasa.gov/neo/rest/v1/feed?start_date={start_date}&api_key={API_KEY}'\n",
        "    # Fetch last week's NEO feed\n",
        "    response = requests.request(\"GET\", url, headers={}, data={})\n",
        "    data = json.loads(response.text)\n",
        "    print(f'{data[\"element_count\"]} Near Earth Objects found for week of {start_date}')\n",
        "    return [neo for dated_records in data['near_earth_objects'].values() for neo in dated_records ]\n",
        "\n",
        "def get_neo(id):\n",
        "    \"\"\" Return a NEO record for the given id \"\"\"\n",
        "    url = f'https://api.nasa.gov/neo/rest/v1/neo/{id}?api_key={API_KEY}'\n",
        "    response = requests.request(\"GET\", url, headers={}, data={})\n",
        "    return json.loads(response.text)\n",
        "\n",
        "week_start = '2023-01-15'\n",
        "neos = get_neos(week_start)\n",
        "assert len(neos) > 0, f'Oh oh!  No NEOs found for {week_start}'\n",
        "neo = get_neo(neos[-1]['id'])  # get the very latest NEO\n",
        "pprint(neo)"
      ],
      "metadata": {
        "colab": {
          "base_uri": "https://localhost:8080/",
          "height": 375
        },
        "id": "YVotU6jGO2QV",
        "outputId": "29c1c26c-7593-46b1-8cbb-3acc782569c7"
      },
      "execution_count": 75,
      "outputs": [
        {
          "output_type": "error",
          "ename": "KeyError",
          "evalue": "'element_count'",
          "traceback": [
            "\u001b[0;31m---------------------------------------------------------------------------\u001b[0m",
            "\u001b[0;31mKeyError\u001b[0m                                  Traceback (most recent call last)",
            "\u001b[0;32m<ipython-input-75-b3a515fa7634>\u001b[0m in \u001b[0;36m<cell line: 19>\u001b[0;34m()\u001b[0m\n\u001b[1;32m     17\u001b[0m \u001b[0;34m\u001b[0m\u001b[0m\n\u001b[1;32m     18\u001b[0m \u001b[0mweek_start\u001b[0m \u001b[0;34m=\u001b[0m \u001b[0;34m'2023-01-15'\u001b[0m\u001b[0;34m\u001b[0m\u001b[0;34m\u001b[0m\u001b[0m\n\u001b[0;32m---> 19\u001b[0;31m \u001b[0mneos\u001b[0m \u001b[0;34m=\u001b[0m \u001b[0mget_neos\u001b[0m\u001b[0;34m(\u001b[0m\u001b[0mweek_start\u001b[0m\u001b[0;34m)\u001b[0m\u001b[0;34m\u001b[0m\u001b[0;34m\u001b[0m\u001b[0m\n\u001b[0m\u001b[1;32m     20\u001b[0m \u001b[0;32massert\u001b[0m \u001b[0mlen\u001b[0m\u001b[0;34m(\u001b[0m\u001b[0mneos\u001b[0m\u001b[0;34m)\u001b[0m \u001b[0;34m>\u001b[0m \u001b[0;36m0\u001b[0m\u001b[0;34m,\u001b[0m \u001b[0;34mf'Oh oh!  No NEOs found for {week_start}'\u001b[0m\u001b[0;34m\u001b[0m\u001b[0;34m\u001b[0m\u001b[0m\n\u001b[1;32m     21\u001b[0m \u001b[0mneo\u001b[0m \u001b[0;34m=\u001b[0m \u001b[0mget_neo\u001b[0m\u001b[0;34m(\u001b[0m\u001b[0mneos\u001b[0m\u001b[0;34m[\u001b[0m\u001b[0;34m-\u001b[0m\u001b[0;36m1\u001b[0m\u001b[0;34m]\u001b[0m\u001b[0;34m[\u001b[0m\u001b[0;34m'id'\u001b[0m\u001b[0;34m]\u001b[0m\u001b[0;34m)\u001b[0m  \u001b[0;31m# get the very latest NEO\u001b[0m\u001b[0;34m\u001b[0m\u001b[0;34m\u001b[0m\u001b[0m\n",
            "\u001b[0;32m<ipython-input-75-b3a515fa7634>\u001b[0m in \u001b[0;36mget_neos\u001b[0;34m(start_date)\u001b[0m\n\u001b[1;32m      7\u001b[0m     \u001b[0mresponse\u001b[0m \u001b[0;34m=\u001b[0m \u001b[0mrequests\u001b[0m\u001b[0;34m.\u001b[0m\u001b[0mrequest\u001b[0m\u001b[0;34m(\u001b[0m\u001b[0;34m\"GET\"\u001b[0m\u001b[0;34m,\u001b[0m \u001b[0murl\u001b[0m\u001b[0;34m,\u001b[0m \u001b[0mheaders\u001b[0m\u001b[0;34m=\u001b[0m\u001b[0;34m{\u001b[0m\u001b[0;34m}\u001b[0m\u001b[0;34m,\u001b[0m \u001b[0mdata\u001b[0m\u001b[0;34m=\u001b[0m\u001b[0;34m{\u001b[0m\u001b[0;34m}\u001b[0m\u001b[0;34m)\u001b[0m\u001b[0;34m\u001b[0m\u001b[0;34m\u001b[0m\u001b[0m\n\u001b[1;32m      8\u001b[0m     \u001b[0mdata\u001b[0m \u001b[0;34m=\u001b[0m \u001b[0mjson\u001b[0m\u001b[0;34m.\u001b[0m\u001b[0mloads\u001b[0m\u001b[0;34m(\u001b[0m\u001b[0mresponse\u001b[0m\u001b[0;34m.\u001b[0m\u001b[0mtext\u001b[0m\u001b[0;34m)\u001b[0m\u001b[0;34m\u001b[0m\u001b[0;34m\u001b[0m\u001b[0m\n\u001b[0;32m----> 9\u001b[0;31m     \u001b[0mprint\u001b[0m\u001b[0;34m(\u001b[0m\u001b[0;34mf'{data[\"element_count\"]} Near Earth Objects found for week of {start_date}'\u001b[0m\u001b[0;34m)\u001b[0m\u001b[0;34m\u001b[0m\u001b[0;34m\u001b[0m\u001b[0m\n\u001b[0m\u001b[1;32m     10\u001b[0m     \u001b[0;32mreturn\u001b[0m \u001b[0;34m[\u001b[0m\u001b[0mneo\u001b[0m \u001b[0;32mfor\u001b[0m \u001b[0mdated_records\u001b[0m \u001b[0;32min\u001b[0m \u001b[0mdata\u001b[0m\u001b[0;34m[\u001b[0m\u001b[0;34m'near_earth_objects'\u001b[0m\u001b[0;34m]\u001b[0m\u001b[0;34m.\u001b[0m\u001b[0mvalues\u001b[0m\u001b[0;34m(\u001b[0m\u001b[0;34m)\u001b[0m \u001b[0;32mfor\u001b[0m \u001b[0mneo\u001b[0m \u001b[0;32min\u001b[0m \u001b[0mdated_records\u001b[0m \u001b[0;34m]\u001b[0m\u001b[0;34m\u001b[0m\u001b[0;34m\u001b[0m\u001b[0m\n\u001b[1;32m     11\u001b[0m \u001b[0;34m\u001b[0m\u001b[0m\n",
            "\u001b[0;31mKeyError\u001b[0m: 'element_count'"
          ]
        }
      ]
    },
    {
      "cell_type": "markdown",
      "source": [
        "## Exercise 1:  Define an Asteroid class\n",
        "\n",
        "Define a simple Asteroid class with some basic state variables for a single NEO.  Your Asteroid class should define at least 4 \"state variables:”\n",
        "\n",
        "    id\n",
        "    name\n",
        "    estimated_diameter (m)\n",
        "    is_potentially_hazardous (bool)\n",
        "\n",
        "Operations must include:\n",
        "* `__init__(self, ...)` method to initialize a new Asteroid object with specific data values\n",
        "* `__str__(self)`, and `__repr__(self)` methods that return nicely formatted string representations of the object.\n",
        "  \n",
        "OR...\n",
        "use a `@dataclass` and it will supply most of that boilerplate code for you!\n",
        "\n",
        "Write a little code to test your new class."
      ],
      "metadata": {
        "collapsed": false,
        "pycharm": {
          "name": "#%% md\n"
        },
        "id": "cJsHn8P55WVy"
      }
    },
    {
      "cell_type": "code",
      "execution_count": null,
      "outputs": [],
      "source": [
        "# Ex.1 your code here\n",
        "class Asteroid_1():\n",
        "\n",
        "    def __init__(self, close_approach_date, miss_distance, orbiting_body, relative_velocity):\n",
        "\n",
        "\n",
        "      self.close_approach_date = close_approach_date\n",
        "      self.miss_distance = miss_distance\n",
        "      self.orbiting_body = orbiting_body\n",
        "      self.relative_velocity = relative_velocity\n",
        "\n",
        "    def __str__(self):\n",
        "      main_str = f\"\"\"On {self.close_approach_date}, a object orbiting {self.orbiting_body} at {self.relative_velocity} m/s came {self.miss_distance}km from Earth.\"\"\"\n",
        "      return main_str\n",
        "    def __repr__(self):\n",
        "      mainer_str = f\"\"\"On {self.close_approach_date}, a object orbiting {self.orbiting_body} at {self.relative_velocity} m/s came {self.miss_distance}km from Earth.\"\"\"\n",
        "      return mainer_str\n",
        "\n",
        "asteroid_x = {'close_approach_date': '1949-07-04',\n",
        "                 'close_approach_date_full': '1949-Jul-04 22:19',\n",
        "                 'epoch_date_close_approach': -646710060000,\n",
        "                 'miss_distance': {'astronomical': '0.419726307',\n",
        "                                   'kilometers': '62790161.51016609',\n",
        "                                   'lunar': '163.273533423',\n",
        "                                   'miles': '39015997.166588442'},\n",
        "                 'orbiting_body': 'Earth',\n",
        "                 'relative_velocity': {'kilometers_per_hour': '73509.6739172087',\n",
        "                                       'kilometers_per_second': '20.4193538659',\n",
        "                                       'miles_per_hour': '45676.0526626122'}} # first entery dict from site\n",
        "\n",
        "\n",
        "asteroid_test_instance = Asteroid_1(asteroid_x['close_approach_date'], asteroid_x['miss_distance']['kilometers'], asteroid_x['orbiting_body'], asteroid_x['relative_velocity']['kilometers_per_hour'])\n",
        "\n",
        "print(str(asteroid_test_instance))\n",
        "print(repr(asteroid_test_instance))\n",
        "\n",
        "\n",
        "\n"
      ],
      "metadata": {
        "pycharm": {
          "name": "#%%\n"
        },
        "ExecuteTime": {
          "end_time": "2024-01-04T04:11:12.891665Z",
          "start_time": "2024-01-04T04:11:12.889274Z"
        },
        "id": "iE16mLY-5WVy"
      }
    },
    {
      "cell_type": "markdown",
      "source": [
        "## Exercise 2: Factory method: Asteriod.from_NEO\n",
        "\n",
        "We want to be able to construct Asteroid objects easily from the record returned from the NEO API.  \n",
        "\n",
        "Add an \"object factory\" method to your class...   \n",
        "\n",
        "    @classmethod\n",
        "    from_NEO(cls, neo_id):\n",
        "        ...\n",
        "\n",
        "that takes the id for a single NEO, fetches the NEO record from API, constructs and returns an Asteroid object representing that NEO.\n",
        "This kind of method is called a “Factory” because it constructs an object from raw materials.\n",
        "\n",
        "Write a little code to test your new class."
      ],
      "metadata": {
        "collapsed": false,
        "pycharm": {
          "name": "#%% md\n"
        },
        "id": "ueJ5l8OZ5WVy"
      }
    },
    {
      "cell_type": "code",
      "execution_count": null,
      "outputs": [],
      "source": [
        "# Ex. 2 your code here\n",
        "\n",
        "\n",
        "class Asteroid():\n",
        "    def __init__(self, close_approach_date, miss_distance, orbiting_body, relative_velocity, id):\n",
        "        self.close_approach_date = close_approach_date\n",
        "        self.miss_distance = miss_distance\n",
        "        self.orbiting_body = orbiting_body\n",
        "        self.relative_velocity = relative_velocity\n",
        "\n",
        "    @classmethod\n",
        "    def from_NEO(cls, neo_id):\n",
        "        API_KEY = 'DEMO_KEY'\n",
        "\n",
        "        url = f'https://api.nasa.gov/neo/rest/v1/neo/{neo_id}?api_key={API_KEY}'\n",
        "        print(url)\n",
        "        response = requests.get(url)\n",
        "        neo_data = json.loads(response.text)\n",
        "\n",
        "        # Extract relevant information from the API response\n",
        "        close_approach_date = neo_data['close_approach_data'][0]['close_approach_date']\n",
        "        miss_distance = neo_data['close_approach_data'][0]['miss_distance']['kilometers']\n",
        "        orbiting_body = neo_data['close_approach_data'][0]['orbiting_body']\n",
        "        relative_velocity = neo_data['close_approach_data'][0]['relative_velocity']['kilometers_per_second']\n",
        "\n",
        "\n",
        "\n",
        "        return cls(close_approach_date, miss_distance, orbiting_body, relative_velocity, id)\n",
        "\n",
        "\n",
        "\n",
        "neo_id_to_fetch = \"3542518\"  # wrong IDs cause failure!!!!!!\n",
        "asteroid = Asteroid.from_NEO(neo_id_to_fetch)\n",
        "\n",
        "print(asteroid.close_approach_date)\n",
        "print(asteroid.miss_distance)\n",
        "print(asteroid.orbiting_body)\n",
        "print(asteroid.relative_velocity)\n",
        "\n",
        "print(\"------------------------------------\")\n",
        "\n",
        "neo_id_to_fetch = \"3542517\"  # wrong IDs cause failure!!!!!!\n",
        "asteroid = Asteroid.from_NEO(neo_id_to_fetch)\n",
        "\n",
        "\n",
        "print(asteroid.close_approach_date)\n",
        "print(asteroid.miss_distance)\n",
        "print(asteroid.orbiting_body)\n",
        "print(asteroid.relative_velocity)\n",
        "#print(asteroid.id)\n",
        "\n",
        "\n",
        "\n"
      ],
      "metadata": {
        "pycharm": {
          "name": "#%%\n"
        },
        "ExecuteTime": {
          "end_time": "2024-01-04T04:11:12.894705Z",
          "start_time": "2024-01-04T04:11:12.892046Z"
        },
        "id": "JLlNmSrH5WVy"
      }
    },
    {
      "cell_type": "markdown",
      "source": [
        "## Exercise 3: Define a CloseApproach class\n",
        "\n",
        "Each NEO record comes with a list of `close_approach_data`, where each record in this list represents a single “close approach” to another orbiting body.\n",
        "* Develop a class named `CloseApproach` to represent a single close approach record.\n",
        "* State variables are\n",
        "\n",
        "        neo (refrence to related NEO object)\n",
        "        orbiting body (str)\n",
        "        approach date (datetime object!)\n",
        "        miss distance (float - choose units, document it, and be consistent!)\n",
        "        relative velocity (ditto)\n",
        "  \n",
        "Define a \"Factory\" class method to construct a `CloseApproach` object from one close approach data record (a dictionary object).   \n",
        "This method takes a `neo` object as input for the NEO to which the close approach data belongs.\n",
        "Remember to parse the date/time string into a datetime object."
      ],
      "metadata": {
        "id": "DNRs7ynOYwYk"
      }
    },
    {
      "cell_type": "code",
      "source": [
        "# Ex. 3 your code here\n",
        "\n",
        "\n",
        "class CloseApproach():\n",
        "    def __init__(self, orbiting_body, approach_date, miss_distance, relative_velocity, neo_id):\n",
        "        self.neo_id = neo_id\n",
        "        self.orbiting_body = orbiting_body\n",
        "        self.approach_date = approach_date\n",
        "        self.miss_distance = miss_distance\n",
        "        self.relative_velocity = relative_velocity\n",
        "\n",
        "\n",
        "\n",
        "    @classmethod\n",
        "    def close_approach_data(cls, close_approach_data, neo_id):\n",
        "        orbiting_body = close_approach_data['orbiting_body']\n",
        "        approach_date = close_approach_data['close_approach_date']#if error do not change\n",
        "        miss_distance = float(close_approach_data['miss_distance']['kilometers'])\n",
        "        relative_velocity = float(close_approach_data['relative_velocity']['kilometers_per_second'])\n",
        "        neo_id = neo_id\n",
        "\n",
        "        #true_approach_date = datetime.datetime.strptime(approach_date_str, '%Y-%m-%d %H:%M:%S')#remove time xx:xx\n",
        "\n",
        "\n",
        "\n",
        "\n",
        "\n",
        "\n",
        "        #neo_data = close_approach_data[0]\n",
        "        #close_approach_date = neo_data.get('close_approach_date', \"\")\n",
        "        #miss_distance = neo_data['miss_distance']['kilometers']\n",
        "        return cls(orbiting_body, approach_date, miss_distance, relative_velocity, neo_id)\n",
        "\n",
        "\n",
        "neo_id_to_fetch = \"3542511\"\n",
        "neo_id = \"3542511\"\n",
        "close_approach_data = {'close_approach_date': '1949-07-04',\n",
        "                 'close_approach_date_full': '1949-Jul-04 22:19',\n",
        "                 'epoch_date_close_approach': -646710060000,\n",
        "                 'miss_distance': {'astronomical': '0.419726307',\n",
        "                                   'kilometers': '62790161.51016609',\n",
        "                                   'lunar': '163.273533423',\n",
        "                                   'miles': '39015997.166588442'},\n",
        "                 'orbiting_body': 'Earth',\n",
        "                 'relative_velocity': {'kilometers_per_hour': '73509.6739172087',\n",
        "                                       'kilometers_per_second': '20.4193538659',\n",
        "                                       'miles_per_hour': '45676.0526626122'}} # first entery dict from site\n",
        "\n",
        "r = CloseApproach.close_approach_data(close_approach_data, \"3542511\")# yaasssss\n",
        "\n",
        "#print(asteroid.close_approach_date)\n",
        "#print(asteroid.miss_distance)\n",
        "#print(asteroid.orbiting_body)\n",
        "#print(asteroid.relative_velocity)\n",
        "#print(asteroid.id)\n"
      ],
      "metadata": {
        "id": "tiyXTDfnZAd0",
        "ExecuteTime": {
          "end_time": "2024-01-04T04:11:12.898030Z",
          "start_time": "2024-01-04T04:11:12.895465Z"
        }
      },
      "execution_count": null,
      "outputs": []
    },
    {
      "cell_type": "markdown",
      "source": [
        "## Exercise 4: Add list of CloseApproach objects to the Asteroid\n",
        "\n",
        "Every `Asteroid` should have a list of “close approaches”.\n",
        "But there is a catch-22 here because we need the `Asteroid` to construct the `CloseApproach` objects.\n",
        "Add an instance variable to your Asteroid class with a default value of an empty list:\n",
        "\n",
        "    ...\n",
        "    close_approaches:list = []\n",
        "    ...\n",
        "      \n",
        "In `from_NEO` factory, use a list comprehension to build the list of `CloseApproach` objects for the Asteroid instance, and then set the instance's `close_approaches` variable before returning it.  \n",
        "Setting the value of an object's instance variables from outside the class is generally frowned upon - this is why we make the factory a method of the class itself!\n",
        "\n",
        "Now add a method to `Asteroid` to return the `nearest_miss` `CloseApproach` object for the asteroic:\n",
        "\n",
        "    def nearest_miss(self):\n",
        "        ...\n",
        "\n",
        "Extend your test code to demonstrate these new features."
      ],
      "metadata": {
        "collapsed": false,
        "id": "LfCMKAg15WVy"
      }
    },
    {
      "cell_type": "code",
      "execution_count": null,
      "outputs": [],
      "source": [
        "# Ex. 4 your code here\n",
        "\n",
        "class CloseApproach():\n",
        "    def __init__(self, orbiting_body, approach_date, miss_distance, relative_velocity, neo_id):\n",
        "        self.neo_id = neo_id\n",
        "        self.orbiting_body = orbiting_body\n",
        "        self.approach_date = approach_date\n",
        "        self.miss_distance = miss_distance\n",
        "        self.relative_velocity = relative_velocity\n",
        "\n",
        "    @classmethod\n",
        "    def close_approach_data(cls, close_approach_data, neo_id):\n",
        "        orbiting_body = close_approach_data['orbiting_body'] #if error do not change\n",
        "        approach_date = close_approach_data['close_approach_date']\n",
        "        miss_distance = float(close_approach_data['miss_distance']['kilometers'])\n",
        "        relative_velocity = float(close_approach_data['relative_velocity']['kilometers_per_second'])\n",
        "        neo_id = neo_id\n",
        "\n",
        "        return cls(orbiting_body, approach_date, miss_distance, relative_velocity, neo_id)\n",
        "\n",
        "class Asteroid():\n",
        "    def __init__(self, close_approach_date, miss_distance, orbiting_body, relative_velocity, id):\n",
        "        self.close_approach_date = close_approach_date\n",
        "        self.miss_distance = miss_distance\n",
        "        self.orbiting_body = orbiting_body\n",
        "        self.relative_velocity = relative_velocity\n",
        "        self.close_approaches = []  # Initialize the list of close_approaches\n",
        "\n",
        "    @classmethod\n",
        "    def from_NEO(cls, neo_id):\n",
        "        API_KEY = 'DEMO_KEY'\n",
        "\n",
        "        url = f'https://api.nasa.gov/neo/rest/v1/neo/{neo_id}?api_key={API_KEY}'\n",
        "        print(url)#URL error check\n",
        "        response = requests.get(url)\n",
        "        print(response)#responce check\n",
        "        neo_data = json.loads(response.text)\n",
        "\n",
        "\n",
        "        close_approaches_data = neo_data.get('close_approach_data', [])\n",
        "\n",
        "        asteroid = cls(\n",
        "            neo_data['close_approach_data'][0]['close_approach_date'], #if error do not change\n",
        "            neo_data['close_approach_data'][0]['miss_distance']['kilometers'],\n",
        "            neo_data['close_approach_data'][0]['orbiting_body'],\n",
        "            neo_data['close_approach_data'][0]['relative_velocity']['kilometers_per_second'],\n",
        "            neo_id\n",
        "        )\n",
        "\n",
        "        asteroid.close_approaches = [\n",
        "            CloseApproach.close_approach_data(approach_data, neo_id)\n",
        "            for approach_data in close_approaches_data\n",
        "        ]\n",
        "\n",
        "        return asteroid\n",
        "\n",
        "    def nearest_miss(self):\n",
        "        if not self.close_approaches:\n",
        "            return None\n",
        "\n",
        "        closest_approach = min(self.close_approaches, key=lambda approach: approach.miss_distance)\n",
        "\n",
        "        return closest_approach#WIP\n",
        "\n",
        "\n",
        "asteroid_inst = Asteroid.from_NEO('3542517')\n",
        "asteroid_inst = Asteroid.from_NEO('3542519')\n",
        "asteroid_inst = Asteroid.from_NEO('3542520')#3542519,\n",
        "nearest_miss_approach = asteroid_inst.nearest_miss()\n",
        "\n",
        "\n",
        "print(\"Nearest Miss Approach:\")\n",
        "print(f\"Orbiting Body: {nearest_miss_approach.orbiting_body}\")#Name is not a member of None error\n",
        "print(f\"Approach Date: {nearest_miss_approach.approach_date}\") #if error do not change\n",
        "print(f\"Miss Distance: {nearest_miss_approach.miss_distance} km\")\n",
        "print(f\"Relative Velocity: {nearest_miss_approach.relative_velocity} km/s\")\n",
        "print(f\"id: {nearest_miss_approach.neo_id}\" )\n",
        "print(\"of all 3\")\n",
        "\n",
        "\n",
        "\n"
      ],
      "metadata": {
        "ExecuteTime": {
          "end_time": "2024-01-04T04:11:12.899780Z",
          "start_time": "2024-01-04T04:11:12.897929Z"
        },
        "id": "RAmN2haU5WVy"
      }
    },
    {
      "cell_type": "markdown",
      "source": [
        "## Challenge - Take your skills to the next level...\n",
        "### Exercise 5: add one additional analysis\n",
        "\n",
        " With these data structures in place, we can now start answering all kinds of interesting questions about a single Asteroid or a set of Asteroids.  \n",
        "Here’s a couple ideas to try:\n",
        "\n",
        "* add a method to the Asteroid class, `closest_earth_approach`, that returns the CloseApproach object that represents the closest approach the Asteroid makes to Earth.\n",
        "\n",
        "* write a **function** named `most_dangerous_approach`, that takes a date range and returns a single “potentially hazardous” Asteroid object that makes the closest approach to Earth in within that range.  Your algorithm will ultimately need to:\n",
        "    * grab the list of NEO’s for the given date range;\n",
        "    * use a list comprehension to build the list of Asteroid objects for the NEO’s returned\n",
        "    * use a list comprehension to filter  potentially hazardous Asteroids only;\n",
        "    * use a list comprehension to map each Asteroid to its  closest_earth_approach\n",
        "    * apply Python’s min function to identify the Asteroid with the closest_earth_approach\n",
        "\n",
        "You may want to decompose some of these steps into smaller functions.\n",
        "* add a method to the Asteroid class, estimated_mass, that computes an estimate of the Asteroid’s mass based on its diameter.  This is a model – state your assumptions.\n",
        "* add a method to the CloseApproach class, impact_force,  that estimates the force of impact if the Asteroid hit the orbiting object.  Again, this is a model, state your assumptions."
      ],
      "metadata": {
        "collapsed": false,
        "id": "52WTLTS25WVy"
      }
    },
    {
      "cell_type": "code",
      "source": [
        "# Ex. 5 (challenge) your code here\n",
        "\n",
        "class CloseApproach():\n",
        "    def __init__(self, orbiting_body, approach_date, miss_distance, relative_velocity, neo_id):\n",
        "        self.neo_id = neo_id\n",
        "        self.orbiting_body = orbiting_body\n",
        "        self.approach_date = approach_date\n",
        "        self.miss_distance = miss_distance\n",
        "        self.relative_velocity = relative_velocity\n",
        "\n",
        "    @classmethod\n",
        "    def close_approach_data(cls, close_approach_data, neo_id):\n",
        "        orbiting_body = close_approach_data['orbiting_body'] #if error do not change\n",
        "        approach_date = close_approach_data['close_approach_date']\n",
        "        miss_distance = float(close_approach_data['miss_distance']['kilometers'])\n",
        "        relative_velocity = float(close_approach_data['relative_velocity']['kilometers_per_second'])\n",
        "        neo_id = neo_id\n",
        "\n",
        "        return cls(orbiting_body, approach_date, miss_distance, relative_velocity, neo_id)\n",
        "\n",
        "    def impact_force(self, impact_speed=20.0):\n",
        "        return self.neo.estimated_mass() * impact_speed * gravitational_acceleration\n",
        "\n",
        "class Asteroid():\n",
        "    def __init__(self, close_approach_date, miss_distance, orbiting_body, relative_velocity, id):\n",
        "        self.close_approach_date = close_approach_date\n",
        "        self.miss_distance = miss_distance\n",
        "        self.orbiting_body = orbiting_body\n",
        "        self.relative_velocity = relative_velocity\n",
        "        self.close_approaches = []  # Initialize the list of close_approaches\n",
        "\n",
        "    @classmethod\n",
        "    def from_NEO(cls, neo_id):\n",
        "        API_KEY = 'DEMO_KEY'\n",
        "\n",
        "        url = f'https://api.nasa.gov/neo/rest/v1/neo/{neo_id}?api_key={API_KEY}'\n",
        "        print(url)#URL error check\n",
        "        response = requests.get(url)\n",
        "        print(response)#responce check\n",
        "        neo_data = json.loads(response.text)\n",
        "\n",
        "\n",
        "        close_approaches_data = neo_data.get('close_approach_data', [])\n",
        "\n",
        "        asteroid = cls(\n",
        "            neo_data['close_approach_data'][0]['close_approach_date'], #if error do not change\n",
        "            neo_data['close_approach_data'][0]['miss_distance']['kilometers'],\n",
        "            neo_data['close_approach_data'][0]['orbiting_body'],\n",
        "            neo_data['close_approach_data'][0]['relative_velocity']['kilometers_per_second'],\n",
        "            neo_id\n",
        "        )\n",
        "\n",
        "        asteroid.close_approaches = [\n",
        "            CloseApproach.close_approach_data(approach_data, neo_id)\n",
        "            for approach_data in close_approaches_data\n",
        "        ]\n",
        "\n",
        "        return asteroid\n",
        "\n",
        "    def nearest_miss(self):\n",
        "        return min(self.close_approaches, key=lambda approach: approach.miss_distance)#class\n",
        "\n",
        "    def estimated_mass(self):#\n",
        "\n",
        "        density_of_asteroid = 2.0\n",
        "        radius = self.diameter / 2.0\n",
        "        diameter_cm = self.diameter * 1000.0\n",
        "\n",
        "        volume = (4 / 3) * 3.1415926535 * (radius ** 3)\n",
        "\n",
        "        mass = volume * density_of_asteroid\n",
        "\n",
        "        return mass\n",
        "\n",
        "    def closest_earth_approach(self):\n",
        "        if not self.close_approaches:\n",
        "            return None\n",
        "\n",
        "        closest_approach = min(self.close_approaches, key=lambda approach: approach.miss_distance)#class\n",
        "        return closest_approach\n",
        "\n",
        "\n",
        "\n",
        "#new_\n",
        "class most_dangerous_approach():\n",
        "    def most_dangerous_approach(start_date, end_date):\n",
        "        asteroids = [\n",
        "            Asteroid.from_NEO(neo_id=neo_id, diamete=diameter)#diamete=diameter\n",
        "            for neo_id, diameter in zip(neo_ids, diameters)\n",
        "        ]\n",
        "\n",
        "        hazardous_asteroids = [asteroid for asteroid in asteroids if asteroid.is_potentially_hazardous()]\n",
        "        most_dangerous_approach = min(hazardous_asteroids, key=lambda asteroid: asteroid.closest_earth_approach().miss_distance)#class\n",
        "        return most_dangerous_approach\n",
        "\n"
      ],
      "metadata": {
        "id": "Ds1YevErlzCe",
        "pycharm": {
          "name": "#%%\n"
        },
        "ExecuteTime": {
          "end_time": "2024-01-04T04:11:12.902837Z",
          "start_time": "2024-01-04T04:11:12.900180Z"
        }
      },
      "execution_count": null,
      "outputs": []
    }
  ]
}