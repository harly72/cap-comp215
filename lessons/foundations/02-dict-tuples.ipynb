{
  "cells": [
    {
      "cell_type": "markdown",
      "source": [
        "# Python Foundations:  new syntax for maps and sequences\n",
        "New Python syntax / concepts for working more effectively with python's built-in map type, `dict`,\n",
        " and linear sequence types, `str`, `tuple`, and `list`\n",
        "\n",
        "Foundations notebook available on Github from the powderflask/cap-comp215 repository.\n",
        "As usual, the first code block just imports the modules we will use."
      ],
      "metadata": {
        "collapsed": false,
        "id": "0wL7ThHq5ELH"
      }
    },
    {
      "cell_type": "code",
      "execution_count": 1,
      "metadata": {
        "collapsed": true,
        "ExecuteTime": {
          "end_time": "2023-12-26T03:14:36.893294Z",
          "start_time": "2023-12-26T03:14:36.883619Z"
        },
        "id": "-rWvXFka5ELI"
      },
      "outputs": [],
      "source": [
        "from pprint import pprint"
      ]
    },
    {
      "cell_type": "markdown",
      "source": [
        "## New Python Syntax: dictionary constructor\n",
        "Often constructing a dictionary using keyword arguments makes for more readable code..."
      ],
      "metadata": {
        "collapsed": false,
        "pycharm": {
          "name": "#%% md\n"
        },
        "id": "1xwB70V25ELI"
      }
    },
    {
      "cell_type": "code",
      "execution_count": 2,
      "outputs": [
        {
          "output_type": "execute_result",
          "data": {
            "text/plain": [
              "({'a': 1, 'b': 2, 'c': 3}, {'a': 1, 'b': 2, 'c': 3})"
            ]
          },
          "metadata": {},
          "execution_count": 2
        }
      ],
      "source": [
        "d1 = {\n",
        "    'a' : 1,\n",
        "    'b' : 2,\n",
        "    'c' : 3,\n",
        "}\n",
        "# vs.\n",
        "d2 = dict(a=1, b=2, c=3)   # only works if dictionary keys are valid python identifiers.\n",
        "\n",
        "assert d1 == d2\n",
        "\n",
        "d1, d2"
      ],
      "metadata": {
        "pycharm": {
          "name": "#%%\n"
        },
        "ExecuteTime": {
          "end_time": "2023-12-26T03:14:36.893606Z",
          "start_time": "2023-12-26T03:14:36.887984Z"
        },
        "id": "MVsg3pkw5ELI",
        "outputId": "072c8f39-3251-4590-d870-b4730fa70650",
        "colab": {
          "base_uri": "https://localhost:8080/"
        }
      }
    },
    {
      "cell_type": "markdown",
      "source": [
        "## New Python Syntax: tuple unpacking\n",
        "\n",
        "Sequences can be \"unpacked\" in various useful ways.  \n",
        "Here we'll demonstrate using `tuples` but these techniques work with any sequence type..."
      ],
      "metadata": {
        "collapsed": false,
        "id": "2qT8SzYX5ELI"
      }
    },
    {
      "cell_type": "code",
      "execution_count": 3,
      "outputs": [
        {
          "output_type": "stream",
          "name": "stdout",
          "text": [
            "2\n"
          ]
        },
        {
          "output_type": "execute_result",
          "data": {
            "text/plain": [
              "(1, 2, 3, 4, 5, 6)"
            ]
          },
          "metadata": {},
          "execution_count": 3
        }
      ],
      "source": [
        "t = (1, 2, 3)\n",
        "x, y, z = t\n",
        "print(y)\n",
        "\n",
        "a, b, c = (1, 2, 3)  # unpack a sequence into separate variables\n",
        "assert a == 1 and b == 2 and c == 3\n",
        "\n",
        "s1 = (1, 2, 3)\n",
        "s2 = (4, 5, 6)\n",
        "merged = (*s1, *s2)  # unpack the 2 sequences to add elements to a merged sequence\n",
        "merged"
      ],
      "metadata": {
        "ExecuteTime": {
          "end_time": "2023-12-26T03:14:36.894281Z",
          "start_time": "2023-12-26T03:14:36.891835Z"
        },
        "id": "TAeZtKwL5ELI",
        "outputId": "66106b20-19fb-449c-fbed-4a82f77c8bbc",
        "colab": {
          "base_uri": "https://localhost:8080/"
        }
      }
    },
    {
      "cell_type": "markdown",
      "source": [
        "## New Python Syntax:  dict unpacking\n",
        "\n",
        "Similarly, we can \"unpack\" a map data structure (e.g., `dict`) using the `**` operator.\n",
        "\n",
        "We will see many uses for this syntax, but a handy one is to merge dictionaries together.\n",
        "Notice the dict merged in \"last\" overrides the value of keys defined by earlier dicts."
      ],
      "metadata": {
        "collapsed": false,
        "pycharm": {
          "name": "#%% md\n"
        },
        "id": "gitGKJLy5ELI"
      }
    },
    {
      "cell_type": "code",
      "execution_count": 4,
      "outputs": [
        {
          "output_type": "execute_result",
          "data": {
            "text/plain": [
              "{'a': 1, 'b': 2, 'c': 9, 'd': 8, 'e': 7}"
            ]
          },
          "metadata": {},
          "execution_count": 4
        }
      ],
      "source": [
        "d3 = dict(a=1, b=2, c=3)\n",
        "d4 = dict(c=9, d=8, e=7)  # note also contains key 'c'\n",
        "\n",
        "merged = {**d3, **d4}\n",
        "merged"
      ],
      "metadata": {
        "pycharm": {
          "name": "#%%\n"
        },
        "ExecuteTime": {
          "end_time": "2023-12-26T03:14:36.899002Z",
          "start_time": "2023-12-26T03:14:36.896287Z"
        },
        "id": "r-GE5zDv5ELJ",
        "outputId": "f72a512d-15c6-40cf-b179-ec280412609a",
        "colab": {
          "base_uri": "https://localhost:8080/"
        }
      }
    },
    {
      "cell_type": "markdown",
      "source": [
        "## New built-in function:  zip()\n",
        "\n",
        "`zip()` is a very powerful function for transforming linear data structures.\n",
        "\n",
        "Think of it like a zipper - it takes 2 (or more) linear  sequences and \"zippers\" their elements together..."
      ],
      "metadata": {
        "collapsed": false,
        "id": "x2eCAGwc5ELJ"
      }
    },
    {
      "cell_type": "code",
      "execution_count": 5,
      "outputs": [
        {
          "output_type": "execute_result",
          "data": {
            "text/plain": [
              "[('a', 1), ('b', 2), ('c', 3), ('d', 4)]"
            ]
          },
          "metadata": {},
          "execution_count": 5
        }
      ],
      "source": [
        "t1 = ('a', 'b', 'c', 'd')\n",
        "t2 = (1, 2, 3, 4, 5)\n",
        "\n",
        "zippered = zip(t1, t2)\n",
        "list(zippered)   # notice that the length of the \"zipped\" tuples is bounded by the shortest input sequence"
      ],
      "metadata": {
        "ExecuteTime": {
          "end_time": "2023-12-26T03:14:36.902779Z",
          "start_time": "2023-12-26T03:14:36.900097Z"
        },
        "id": "fVEI0D4R5ELJ",
        "outputId": "2b40b9d0-c5c2-48e9-86be-096659cfb28b",
        "colab": {
          "base_uri": "https://localhost:8080/"
        }
      }
    },
    {
      "cell_type": "markdown",
      "source": [
        "### Creating a dict from a list of 2-tuples\n",
        "Here's an example that transforms 2 tuples into a dictionary that maps values in the first tuple to the second!"
      ],
      "metadata": {
        "collapsed": false,
        "id": "F6SFZZBR5ELJ"
      }
    },
    {
      "cell_type": "code",
      "execution_count": 6,
      "outputs": [
        {
          "output_type": "execute_result",
          "data": {
            "text/plain": [
              "{'a': 1, 'b': 2, 'c': 3, 'd': 4}"
            ]
          },
          "metadata": {},
          "execution_count": 6
        }
      ],
      "source": [
        "map = dict(zip(t1, t2))\n",
        "map"
      ],
      "metadata": {
        "ExecuteTime": {
          "end_time": "2023-12-26T03:14:36.909164Z",
          "start_time": "2023-12-26T03:14:36.902712Z"
        },
        "id": "6mWbShQ15ELJ",
        "outputId": "df7af00d-9915-410e-d2bb-9c623a96efb1",
        "colab": {
          "base_uri": "https://localhost:8080/"
        }
      }
    },
    {
      "cell_type": "markdown",
      "source": [
        "... python's built-in types and functions provide a near endless variety of ways to merge, unpack, and transform data.  \n",
        "But it takes some practice to learn how to think about data transformations clearly, and harness python's power effectively."
      ],
      "metadata": {
        "collapsed": false,
        "id": "V58EheNt5ELJ"
      }
    }
  ],
  "metadata": {
    "kernelspec": {
      "display_name": "Python 3",
      "language": "python",
      "name": "python3"
    },
    "language_info": {
      "codemirror_mode": {
        "name": "ipython",
        "version": 2
      },
      "file_extension": ".py",
      "mimetype": "text/x-python",
      "name": "python",
      "nbconvert_exporter": "python",
      "pygments_lexer": "ipython2",
      "version": "2.7.6"
    },
    "colab": {
      "provenance": []
    }
  },
  "nbformat": 4,
  "nbformat_minor": 0
}